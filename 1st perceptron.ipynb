{
  "nbformat": 4,
  "nbformat_minor": 0,
  "metadata": {
    "colab": {
      "name": "Untitled41.ipynb",
      "provenance": [],
      "mount_file_id": "1b-s3HmBNDHiN8liAZtNczMc3NDOc-zVi",
      "authorship_tag": "ABX9TyONpjhMu+QAVIRVmwYL8Qbe",
      "include_colab_link": true
    },
    "kernelspec": {
      "name": "python3",
      "display_name": "Python 3"
    },
    "language_info": {
      "name": "python"
    }
  },
  "cells": [
    {
      "cell_type": "markdown",
      "metadata": {
        "id": "view-in-github",
        "colab_type": "text"
      },
      "source": [
        "<a href=\"https://colab.research.google.com/github/siddharthaborgohain/Deep-Learning/blob/main/1st%20perceptron.ipynb\" target=\"_parent\"><img src=\"https://colab.research.google.com/assets/colab-badge.svg\" alt=\"Open In Colab\"/></a>"
      ]
    },
    {
      "cell_type": "code",
      "execution_count": 1,
      "metadata": {
        "id": "yZa2TlhWDsWn"
      },
      "outputs": [],
      "source": [
        "ROOT=\"/content/drive/MyDrive\""
      ]
    },
    {
      "cell_type": "code",
      "source": [
        "import os\n",
        "\n",
        "os.chdir(ROOT)"
      ],
      "metadata": {
        "id": "UYJX_49BEpI2"
      },
      "execution_count": 3,
      "outputs": []
    },
    {
      "cell_type": "code",
      "source": [
        "!ls"
      ],
      "metadata": {
        "colab": {
          "base_uri": "https://localhost:8080/"
        },
        "id": "cQ_4A7PFEvUn",
        "outputId": "4deb9d6d-371a-4ed2-85c2-a5cf52dbdc25"
      },
      "execution_count": 4,
      "outputs": [
        {
          "output_type": "stream",
          "name": "stdout",
          "text": [
            " 1638698922733.jpg\n",
            "'afs-fwct-dpt – 17 Jan 2022.gjam'\n",
            " BitcoinHeistData.csv\n",
            " Capture.JPG\n",
            "'Colab Notebooks'\n",
            "'czu-guhm-uov – 6 Aug 2021 (1).gjam'\n",
            "'czu-guhm-uov – 6 Aug 2021 (2).gjam'\n",
            "'czu-guhm-uov – 6 Aug 2021 (3).gjam'\n",
            "'czu-guhm-uov – 6 Aug 2021 (4).gjam'\n",
            "'czu-guhm-uov – 6 Aug 2021.gjam'\n",
            "'dja-qxog-ctt – 13 Aug 2021.gjam'\n",
            "'DS C31 Program Calendar.xlsx'\n",
            "'fon-rxjr-xgy – 25 Dec 2021 (1).gjam'\n",
            "'fon-rxjr-xgy – 25 Dec 2021 (2).gjam'\n",
            "'fon-rxjr-xgy – 25 Dec 2021.gjam'\n",
            "'gpx-qzch-jrx – 23 Oct 2021 (1).gjam'\n",
            "'gpx-qzch-jrx – 23 Oct 2021.gjam'\n",
            "'hcx-cmdu-dro – 13 Aug 2021.gjam'\n",
            "'Machine Learning A-Z (Codes and Datasets)'\n",
            "'ncm-zmei-esq – 18 Dec 2021 (1).gjam'\n",
            "'ncm-zmei-esq – 18 Dec 2021.gjam'\n",
            "'new Resume_Siddhartha (1).pdf'\n",
            "'PGDDS March 2021 - C30 Live session Recordings.gsheet'\n",
            " Project_Plan_29072021.xlsx\n",
            "'ryi-gwho-fah – 11 Aug 2021.gjam'\n",
            "'SIDDHARTHA_BORHOHAIN_Senior_Data_Scientist (1).pdf'\n",
            " SIDDHARTHA_BORHOHAIN_Senior_Data_Scientist.pdf\n",
            "'To-do list.gsheet'\n",
            "'twibbon-profile (1).png'\n",
            " untitled-27-may-2021-5-2-40.pdf\n",
            "'Untitled spreadsheet.gsheet'\n",
            " upas.JPG\n"
          ]
        }
      ]
    },
    {
      "cell_type": "code",
      "source": [
        "assert ROOT ==os.getcwd()"
      ],
      "metadata": {
        "id": "5TxJWPtgE27F"
      },
      "execution_count": 5,
      "outputs": []
    },
    {
      "cell_type": "code",
      "source": [
        "os.getcwd()"
      ],
      "metadata": {
        "colab": {
          "base_uri": "https://localhost:8080/",
          "height": 35
        },
        "id": "lvEw-AzHFCee",
        "outputId": "23c8a48d-3f09-43bb-f14d-bb8fac6f5e17"
      },
      "execution_count": 6,
      "outputs": [
        {
          "output_type": "execute_result",
          "data": {
            "text/plain": [
              "'/content/drive/MyDrive'"
            ],
            "application/vnd.google.colaboratory.intrinsic+json": {
              "type": "string"
            }
          },
          "metadata": {},
          "execution_count": 6
        }
      ]
    },
    {
      "cell_type": "code",
      "source": [
        "with open(\"test.txt\",\"w\") as f:\n",
        "  f.writelines(\"hello colab\")"
      ],
      "metadata": {
        "id": "vswJDAURFKFG"
      },
      "execution_count": 7,
      "outputs": []
    },
    {
      "cell_type": "code",
      "source": [
        "import matplotlib.pyplot as plt\n",
        "import numpy as np\n",
        "import pandas as pd\n",
        "import joblib # saving model as binary file\n",
        "from matplotlib.colors import LinearSegmentedColormap\n",
        "\n",
        "plt.style.use(\"fivethirtyeight\") # style graph"
      ],
      "metadata": {
        "id": "ikqAT8qZFcle"
      },
      "execution_count": 8,
      "outputs": []
    },
    {
      "cell_type": "code",
      "source": [
        "from re import X\n",
        "class Perceptron:\n",
        "  def __init__(self, eta, epochs):\n",
        "    self.weights = np.random.randn(3)* 1e-4 #SMALL WEIGHT INIT\n",
        "    print(f\"initial weights before training: {self.weights}\")\n",
        "    self.eta = eta #Learning Rate\n",
        "    self.epochs = epochs\n",
        "  def activationFunction(self, input, weights):\n",
        "    z=np.dot(input, weights)\n",
        "    return np.where(z > 0 ,1,0)\n",
        "  def fit(self, X, y):\n",
        "    self.X = X\n",
        "    self.y = y\n",
        "\n",
        "    X_with_bias = np.c_[self.X, -np.ones((len(self.X),1))]\n",
        "    print(f\"X with bias: \\n{X_with_bias}\")\n",
        "\n",
        "    for epoch in range(self.epochs):\n",
        "      print(\"--\"*10)\n",
        "      print(f\"for epoch:{epoch}\")\n",
        "      print(\"--\"*10)\n",
        "\n",
        "      y_hat=self.activationFunction(X_with_bias, self.weights)# forward propogation\n",
        "      print(f\"predicted value after forward pass: {y_hat}\")\n",
        "      self.error =self.y-y_hat\n",
        "      print(f\"error:\\n{self.error}\")\n",
        "\n",
        "      self.weights=self.weights +self.eta *np.dot(X_with_bias.T,self.error) # BACKWARD PROPAGATION\n",
        "      print(f\"updated weights after epoch: \\n{epoch}/{self.epochs} : {self.weights}\")\n",
        "      print(\"#####\"*10)\n",
        "  def predict(self, X):\n",
        "    X_with_bias = np.c_[self.X, -np.ones((len(X),1))]\n",
        "    return self.activationFunction(X_with_bias,self.weights)\n",
        "  def total_loss(self):\n",
        "    total_loss = np.sum(self.error)\n",
        "    print(f\"total loss: {total_loss}\")\n",
        "    return total_loss"
      ],
      "metadata": {
        "id": "P-gMYqviGQBy"
      },
      "execution_count": 18,
      "outputs": []
    },
    {
      "cell_type": "code",
      "source": [
        "def prepare_data(df):\n",
        "  X=df.drop(\"y\",axis=1)\n",
        "  y=df[\"y\"]\n",
        "  return X, y"
      ],
      "metadata": {
        "id": "v3UAwW2pQKfZ"
      },
      "execution_count": 19,
      "outputs": []
    },
    {
      "cell_type": "code",
      "source": [
        "AND = {\n",
        "    \"x1\": [0,0,1,1],\n",
        "    \"x2\": [0,1,0,1],\n",
        "    \"y\" : [0,0,0,1],\n",
        "}\n",
        "\n",
        "df = pd.DataFrame(AND)\n",
        "\n",
        "df"
      ],
      "metadata": {
        "colab": {
          "base_uri": "https://localhost:8080/",
          "height": 175
        },
        "id": "M_kHvehAQgJ6",
        "outputId": "d3aa4452-ddd8-4dd0-b5e3-5985bf2fa66c"
      },
      "execution_count": 20,
      "outputs": [
        {
          "output_type": "execute_result",
          "data": {
            "text/plain": [
              "   x1  x2  y\n",
              "0   0   0  0\n",
              "1   0   1  0\n",
              "2   1   0  0\n",
              "3   1   1  1"
            ],
            "text/html": [
              "\n",
              "  <div id=\"df-b2f21b00-db82-4b7c-b579-138dc79f4e49\">\n",
              "    <div class=\"colab-df-container\">\n",
              "      <div>\n",
              "<style scoped>\n",
              "    .dataframe tbody tr th:only-of-type {\n",
              "        vertical-align: middle;\n",
              "    }\n",
              "\n",
              "    .dataframe tbody tr th {\n",
              "        vertical-align: top;\n",
              "    }\n",
              "\n",
              "    .dataframe thead th {\n",
              "        text-align: right;\n",
              "    }\n",
              "</style>\n",
              "<table border=\"1\" class=\"dataframe\">\n",
              "  <thead>\n",
              "    <tr style=\"text-align: right;\">\n",
              "      <th></th>\n",
              "      <th>x1</th>\n",
              "      <th>x2</th>\n",
              "      <th>y</th>\n",
              "    </tr>\n",
              "  </thead>\n",
              "  <tbody>\n",
              "    <tr>\n",
              "      <th>0</th>\n",
              "      <td>0</td>\n",
              "      <td>0</td>\n",
              "      <td>0</td>\n",
              "    </tr>\n",
              "    <tr>\n",
              "      <th>1</th>\n",
              "      <td>0</td>\n",
              "      <td>1</td>\n",
              "      <td>0</td>\n",
              "    </tr>\n",
              "    <tr>\n",
              "      <th>2</th>\n",
              "      <td>1</td>\n",
              "      <td>0</td>\n",
              "      <td>0</td>\n",
              "    </tr>\n",
              "    <tr>\n",
              "      <th>3</th>\n",
              "      <td>1</td>\n",
              "      <td>1</td>\n",
              "      <td>1</td>\n",
              "    </tr>\n",
              "  </tbody>\n",
              "</table>\n",
              "</div>\n",
              "      <button class=\"colab-df-convert\" onclick=\"convertToInteractive('df-b2f21b00-db82-4b7c-b579-138dc79f4e49')\"\n",
              "              title=\"Convert this dataframe to an interactive table.\"\n",
              "              style=\"display:none;\">\n",
              "        \n",
              "  <svg xmlns=\"http://www.w3.org/2000/svg\" height=\"24px\"viewBox=\"0 0 24 24\"\n",
              "       width=\"24px\">\n",
              "    <path d=\"M0 0h24v24H0V0z\" fill=\"none\"/>\n",
              "    <path d=\"M18.56 5.44l.94 2.06.94-2.06 2.06-.94-2.06-.94-.94-2.06-.94 2.06-2.06.94zm-11 1L8.5 8.5l.94-2.06 2.06-.94-2.06-.94L8.5 2.5l-.94 2.06-2.06.94zm10 10l.94 2.06.94-2.06 2.06-.94-2.06-.94-.94-2.06-.94 2.06-2.06.94z\"/><path d=\"M17.41 7.96l-1.37-1.37c-.4-.4-.92-.59-1.43-.59-.52 0-1.04.2-1.43.59L10.3 9.45l-7.72 7.72c-.78.78-.78 2.05 0 2.83L4 21.41c.39.39.9.59 1.41.59.51 0 1.02-.2 1.41-.59l7.78-7.78 2.81-2.81c.8-.78.8-2.07 0-2.86zM5.41 20L4 18.59l7.72-7.72 1.47 1.35L5.41 20z\"/>\n",
              "  </svg>\n",
              "      </button>\n",
              "      \n",
              "  <style>\n",
              "    .colab-df-container {\n",
              "      display:flex;\n",
              "      flex-wrap:wrap;\n",
              "      gap: 12px;\n",
              "    }\n",
              "\n",
              "    .colab-df-convert {\n",
              "      background-color: #E8F0FE;\n",
              "      border: none;\n",
              "      border-radius: 50%;\n",
              "      cursor: pointer;\n",
              "      display: none;\n",
              "      fill: #1967D2;\n",
              "      height: 32px;\n",
              "      padding: 0 0 0 0;\n",
              "      width: 32px;\n",
              "    }\n",
              "\n",
              "    .colab-df-convert:hover {\n",
              "      background-color: #E2EBFA;\n",
              "      box-shadow: 0px 1px 2px rgba(60, 64, 67, 0.3), 0px 1px 3px 1px rgba(60, 64, 67, 0.15);\n",
              "      fill: #174EA6;\n",
              "    }\n",
              "\n",
              "    [theme=dark] .colab-df-convert {\n",
              "      background-color: #3B4455;\n",
              "      fill: #D2E3FC;\n",
              "    }\n",
              "\n",
              "    [theme=dark] .colab-df-convert:hover {\n",
              "      background-color: #434B5C;\n",
              "      box-shadow: 0px 1px 3px 1px rgba(0, 0, 0, 0.15);\n",
              "      filter: drop-shadow(0px 1px 2px rgba(0, 0, 0, 0.3));\n",
              "      fill: #FFFFFF;\n",
              "    }\n",
              "  </style>\n",
              "\n",
              "      <script>\n",
              "        const buttonEl =\n",
              "          document.querySelector('#df-b2f21b00-db82-4b7c-b579-138dc79f4e49 button.colab-df-convert');\n",
              "        buttonEl.style.display =\n",
              "          google.colab.kernel.accessAllowed ? 'block' : 'none';\n",
              "\n",
              "        async function convertToInteractive(key) {\n",
              "          const element = document.querySelector('#df-b2f21b00-db82-4b7c-b579-138dc79f4e49');\n",
              "          const dataTable =\n",
              "            await google.colab.kernel.invokeFunction('convertToInteractive',\n",
              "                                                     [key], {});\n",
              "          if (!dataTable) return;\n",
              "\n",
              "          const docLinkHtml = 'Like what you see? Visit the ' +\n",
              "            '<a target=\"_blank\" href=https://colab.research.google.com/notebooks/data_table.ipynb>data table notebook</a>'\n",
              "            + ' to learn more about interactive tables.';\n",
              "          element.innerHTML = '';\n",
              "          dataTable['output_type'] = 'display_data';\n",
              "          await google.colab.output.renderOutput(dataTable, element);\n",
              "          const docLink = document.createElement('div');\n",
              "          docLink.innerHTML = docLinkHtml;\n",
              "          element.appendChild(docLink);\n",
              "        }\n",
              "      </script>\n",
              "    </div>\n",
              "  </div>\n",
              "  "
            ]
          },
          "metadata": {},
          "execution_count": 20
        }
      ]
    },
    {
      "cell_type": "code",
      "source": [
        "X,y =prepare_data(df)\n",
        "\n",
        "ETA =0.3\n",
        "EPOCHS=10\n",
        "\n",
        "model=Perceptron(eta=ETA,epochs=EPOCHS)\n",
        "model.fit(X,y)\n",
        "\n",
        "_= model.total_loss()\n"
      ],
      "metadata": {
        "colab": {
          "base_uri": "https://localhost:8080/"
        },
        "id": "8eQV9sNLRo2_",
        "outputId": "67914b63-0f10-4070-b45f-e20e3e5158c2"
      },
      "execution_count": 21,
      "outputs": [
        {
          "output_type": "stream",
          "name": "stdout",
          "text": [
            "initial weights before training: [-1.28826722e-04 -3.50894574e-06  1.16841268e-04]\n",
            "X with bias: \n",
            "[[ 0.  0. -1.]\n",
            " [ 0.  1. -1.]\n",
            " [ 1.  0. -1.]\n",
            " [ 1.  1. -1.]]\n",
            "--------------------\n",
            "for epoch:0\n",
            "--------------------\n",
            "predicted value after forward pass: [0 0 0 0]\n",
            "error:\n",
            "0    0\n",
            "1    0\n",
            "2    0\n",
            "3    1\n",
            "Name: y, dtype: int64\n",
            "updated weights after epoch: \n",
            "0/10 : [ 0.29987117  0.29999649 -0.29988316]\n",
            "##################################################\n",
            "--------------------\n",
            "for epoch:1\n",
            "--------------------\n",
            "predicted value after forward pass: [1 1 1 1]\n",
            "error:\n",
            "0   -1\n",
            "1   -1\n",
            "2   -1\n",
            "3    0\n",
            "Name: y, dtype: int64\n",
            "updated weights after epoch: \n",
            "1/10 : [-1.28826722e-04 -3.50894574e-06  6.00116841e-01]\n",
            "##################################################\n",
            "--------------------\n",
            "for epoch:2\n",
            "--------------------\n",
            "predicted value after forward pass: [0 0 0 0]\n",
            "error:\n",
            "0    0\n",
            "1    0\n",
            "2    0\n",
            "3    1\n",
            "Name: y, dtype: int64\n",
            "updated weights after epoch: \n",
            "2/10 : [0.29987117 0.29999649 0.30011684]\n",
            "##################################################\n",
            "--------------------\n",
            "for epoch:3\n",
            "--------------------\n",
            "predicted value after forward pass: [0 0 0 1]\n",
            "error:\n",
            "0    0\n",
            "1    0\n",
            "2    0\n",
            "3    0\n",
            "Name: y, dtype: int64\n",
            "updated weights after epoch: \n",
            "3/10 : [0.29987117 0.29999649 0.30011684]\n",
            "##################################################\n",
            "--------------------\n",
            "for epoch:4\n",
            "--------------------\n",
            "predicted value after forward pass: [0 0 0 1]\n",
            "error:\n",
            "0    0\n",
            "1    0\n",
            "2    0\n",
            "3    0\n",
            "Name: y, dtype: int64\n",
            "updated weights after epoch: \n",
            "4/10 : [0.29987117 0.29999649 0.30011684]\n",
            "##################################################\n",
            "--------------------\n",
            "for epoch:5\n",
            "--------------------\n",
            "predicted value after forward pass: [0 0 0 1]\n",
            "error:\n",
            "0    0\n",
            "1    0\n",
            "2    0\n",
            "3    0\n",
            "Name: y, dtype: int64\n",
            "updated weights after epoch: \n",
            "5/10 : [0.29987117 0.29999649 0.30011684]\n",
            "##################################################\n",
            "--------------------\n",
            "for epoch:6\n",
            "--------------------\n",
            "predicted value after forward pass: [0 0 0 1]\n",
            "error:\n",
            "0    0\n",
            "1    0\n",
            "2    0\n",
            "3    0\n",
            "Name: y, dtype: int64\n",
            "updated weights after epoch: \n",
            "6/10 : [0.29987117 0.29999649 0.30011684]\n",
            "##################################################\n",
            "--------------------\n",
            "for epoch:7\n",
            "--------------------\n",
            "predicted value after forward pass: [0 0 0 1]\n",
            "error:\n",
            "0    0\n",
            "1    0\n",
            "2    0\n",
            "3    0\n",
            "Name: y, dtype: int64\n",
            "updated weights after epoch: \n",
            "7/10 : [0.29987117 0.29999649 0.30011684]\n",
            "##################################################\n",
            "--------------------\n",
            "for epoch:8\n",
            "--------------------\n",
            "predicted value after forward pass: [0 0 0 1]\n",
            "error:\n",
            "0    0\n",
            "1    0\n",
            "2    0\n",
            "3    0\n",
            "Name: y, dtype: int64\n",
            "updated weights after epoch: \n",
            "8/10 : [0.29987117 0.29999649 0.30011684]\n",
            "##################################################\n",
            "--------------------\n",
            "for epoch:9\n",
            "--------------------\n",
            "predicted value after forward pass: [0 0 0 1]\n",
            "error:\n",
            "0    0\n",
            "1    0\n",
            "2    0\n",
            "3    0\n",
            "Name: y, dtype: int64\n",
            "updated weights after epoch: \n",
            "9/10 : [0.29987117 0.29999649 0.30011684]\n",
            "##################################################\n",
            "total loss: 0\n"
          ]
        }
      ]
    },
    {
      "cell_type": "code",
      "source": [
        ""
      ],
      "metadata": {
        "id": "cWKHdTdCSMWX"
      },
      "execution_count": null,
      "outputs": []
    }
  ]
}
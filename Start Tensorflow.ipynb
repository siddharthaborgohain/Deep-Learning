{
  "nbformat": 4,
  "nbformat_minor": 0,
  "metadata": {
    "colab": {
      "name": "Untitled11.ipynb",
      "provenance": [],
      "authorship_tag": "ABX9TyMmXQIavnaNQ8jwXnxM7NNF",
      "include_colab_link": true
    },
    "kernelspec": {
      "name": "python3",
      "display_name": "Python 3"
    },
    "language_info": {
      "name": "python"
    }
  },
  "cells": [
    {
      "cell_type": "markdown",
      "metadata": {
        "id": "view-in-github",
        "colab_type": "text"
      },
      "source": [
        "<a href=\"https://colab.research.google.com/github/siddharthaborgohain/Deep-Learning/blob/main/Start%20Tensorflow.ipynb\" target=\"_parent\"><img src=\"https://colab.research.google.com/assets/colab-badge.svg\" alt=\"Open In Colab\"/></a>"
      ]
    },
    {
      "cell_type": "markdown",
      "source": [
        "Artificial Neural Network\n"
      ],
      "metadata": {
        "id": "sBzn6xXcYstU"
      }
    },
    {
      "cell_type": "markdown",
      "source": [
        "importing the libraries"
      ],
      "metadata": {
        "id": "9Vbo7ugPY6td"
      }
    },
    {
      "cell_type": "code",
      "execution_count": 2,
      "metadata": {
        "id": "v0R_lin5YmcP"
      },
      "outputs": [],
      "source": [
        "import numpy as np\n",
        "import pandas as pd\n",
        "import tensorflow as tf"
      ]
    },
    {
      "cell_type": "code",
      "source": [
        "tf.__version__"
      ],
      "metadata": {
        "colab": {
          "base_uri": "https://localhost:8080/",
          "height": 35
        },
        "id": "432YdXyVZSv1",
        "outputId": "2a99431f-a773-436e-b5fa-21da5e0deff2"
      },
      "execution_count": 3,
      "outputs": [
        {
          "output_type": "execute_result",
          "data": {
            "text/plain": [
              "'2.8.0'"
            ],
            "application/vnd.google.colaboratory.intrinsic+json": {
              "type": "string"
            }
          },
          "metadata": {},
          "execution_count": 3
        }
      ]
    },
    {
      "cell_type": "markdown",
      "source": [
        "**Data Preprocessing**"
      ],
      "metadata": {
        "id": "74vKYfMuZwO0"
      }
    },
    {
      "cell_type": "markdown",
      "source": [
        "*Importing the dataset*"
      ],
      "metadata": {
        "id": "4rfEh_oeZ3Fs"
      }
    },
    {
      "cell_type": "code",
      "source": [
        "dataset = pd.read_excel(\"Folds5x2_pp.xlsx\")\n",
        "dataset.head()"
      ],
      "metadata": {
        "colab": {
          "base_uri": "https://localhost:8080/",
          "height": 206
        },
        "id": "7ff1wb-vZgre",
        "outputId": "46c41b9c-299d-4c73-f8a5-7afc405030d1"
      },
      "execution_count": 5,
      "outputs": [
        {
          "output_type": "execute_result",
          "data": {
            "text/plain": [
              "      AT      V       AP     RH      PE\n",
              "0  14.96  41.76  1024.07  73.17  463.26\n",
              "1  25.18  62.96  1020.04  59.08  444.37\n",
              "2   5.11  39.40  1012.16  92.14  488.56\n",
              "3  20.86  57.32  1010.24  76.64  446.48\n",
              "4  10.82  37.50  1009.23  96.62  473.90"
            ],
            "text/html": [
              "\n",
              "  <div id=\"df-b5cbe5f3-7381-414a-8fe2-e41c0265c3a7\">\n",
              "    <div class=\"colab-df-container\">\n",
              "      <div>\n",
              "<style scoped>\n",
              "    .dataframe tbody tr th:only-of-type {\n",
              "        vertical-align: middle;\n",
              "    }\n",
              "\n",
              "    .dataframe tbody tr th {\n",
              "        vertical-align: top;\n",
              "    }\n",
              "\n",
              "    .dataframe thead th {\n",
              "        text-align: right;\n",
              "    }\n",
              "</style>\n",
              "<table border=\"1\" class=\"dataframe\">\n",
              "  <thead>\n",
              "    <tr style=\"text-align: right;\">\n",
              "      <th></th>\n",
              "      <th>AT</th>\n",
              "      <th>V</th>\n",
              "      <th>AP</th>\n",
              "      <th>RH</th>\n",
              "      <th>PE</th>\n",
              "    </tr>\n",
              "  </thead>\n",
              "  <tbody>\n",
              "    <tr>\n",
              "      <th>0</th>\n",
              "      <td>14.96</td>\n",
              "      <td>41.76</td>\n",
              "      <td>1024.07</td>\n",
              "      <td>73.17</td>\n",
              "      <td>463.26</td>\n",
              "    </tr>\n",
              "    <tr>\n",
              "      <th>1</th>\n",
              "      <td>25.18</td>\n",
              "      <td>62.96</td>\n",
              "      <td>1020.04</td>\n",
              "      <td>59.08</td>\n",
              "      <td>444.37</td>\n",
              "    </tr>\n",
              "    <tr>\n",
              "      <th>2</th>\n",
              "      <td>5.11</td>\n",
              "      <td>39.40</td>\n",
              "      <td>1012.16</td>\n",
              "      <td>92.14</td>\n",
              "      <td>488.56</td>\n",
              "    </tr>\n",
              "    <tr>\n",
              "      <th>3</th>\n",
              "      <td>20.86</td>\n",
              "      <td>57.32</td>\n",
              "      <td>1010.24</td>\n",
              "      <td>76.64</td>\n",
              "      <td>446.48</td>\n",
              "    </tr>\n",
              "    <tr>\n",
              "      <th>4</th>\n",
              "      <td>10.82</td>\n",
              "      <td>37.50</td>\n",
              "      <td>1009.23</td>\n",
              "      <td>96.62</td>\n",
              "      <td>473.90</td>\n",
              "    </tr>\n",
              "  </tbody>\n",
              "</table>\n",
              "</div>\n",
              "      <button class=\"colab-df-convert\" onclick=\"convertToInteractive('df-b5cbe5f3-7381-414a-8fe2-e41c0265c3a7')\"\n",
              "              title=\"Convert this dataframe to an interactive table.\"\n",
              "              style=\"display:none;\">\n",
              "        \n",
              "  <svg xmlns=\"http://www.w3.org/2000/svg\" height=\"24px\"viewBox=\"0 0 24 24\"\n",
              "       width=\"24px\">\n",
              "    <path d=\"M0 0h24v24H0V0z\" fill=\"none\"/>\n",
              "    <path d=\"M18.56 5.44l.94 2.06.94-2.06 2.06-.94-2.06-.94-.94-2.06-.94 2.06-2.06.94zm-11 1L8.5 8.5l.94-2.06 2.06-.94-2.06-.94L8.5 2.5l-.94 2.06-2.06.94zm10 10l.94 2.06.94-2.06 2.06-.94-2.06-.94-.94-2.06-.94 2.06-2.06.94z\"/><path d=\"M17.41 7.96l-1.37-1.37c-.4-.4-.92-.59-1.43-.59-.52 0-1.04.2-1.43.59L10.3 9.45l-7.72 7.72c-.78.78-.78 2.05 0 2.83L4 21.41c.39.39.9.59 1.41.59.51 0 1.02-.2 1.41-.59l7.78-7.78 2.81-2.81c.8-.78.8-2.07 0-2.86zM5.41 20L4 18.59l7.72-7.72 1.47 1.35L5.41 20z\"/>\n",
              "  </svg>\n",
              "      </button>\n",
              "      \n",
              "  <style>\n",
              "    .colab-df-container {\n",
              "      display:flex;\n",
              "      flex-wrap:wrap;\n",
              "      gap: 12px;\n",
              "    }\n",
              "\n",
              "    .colab-df-convert {\n",
              "      background-color: #E8F0FE;\n",
              "      border: none;\n",
              "      border-radius: 50%;\n",
              "      cursor: pointer;\n",
              "      display: none;\n",
              "      fill: #1967D2;\n",
              "      height: 32px;\n",
              "      padding: 0 0 0 0;\n",
              "      width: 32px;\n",
              "    }\n",
              "\n",
              "    .colab-df-convert:hover {\n",
              "      background-color: #E2EBFA;\n",
              "      box-shadow: 0px 1px 2px rgba(60, 64, 67, 0.3), 0px 1px 3px 1px rgba(60, 64, 67, 0.15);\n",
              "      fill: #174EA6;\n",
              "    }\n",
              "\n",
              "    [theme=dark] .colab-df-convert {\n",
              "      background-color: #3B4455;\n",
              "      fill: #D2E3FC;\n",
              "    }\n",
              "\n",
              "    [theme=dark] .colab-df-convert:hover {\n",
              "      background-color: #434B5C;\n",
              "      box-shadow: 0px 1px 3px 1px rgba(0, 0, 0, 0.15);\n",
              "      filter: drop-shadow(0px 1px 2px rgba(0, 0, 0, 0.3));\n",
              "      fill: #FFFFFF;\n",
              "    }\n",
              "  </style>\n",
              "\n",
              "      <script>\n",
              "        const buttonEl =\n",
              "          document.querySelector('#df-b5cbe5f3-7381-414a-8fe2-e41c0265c3a7 button.colab-df-convert');\n",
              "        buttonEl.style.display =\n",
              "          google.colab.kernel.accessAllowed ? 'block' : 'none';\n",
              "\n",
              "        async function convertToInteractive(key) {\n",
              "          const element = document.querySelector('#df-b5cbe5f3-7381-414a-8fe2-e41c0265c3a7');\n",
              "          const dataTable =\n",
              "            await google.colab.kernel.invokeFunction('convertToInteractive',\n",
              "                                                     [key], {});\n",
              "          if (!dataTable) return;\n",
              "\n",
              "          const docLinkHtml = 'Like what you see? Visit the ' +\n",
              "            '<a target=\"_blank\" href=https://colab.research.google.com/notebooks/data_table.ipynb>data table notebook</a>'\n",
              "            + ' to learn more about interactive tables.';\n",
              "          element.innerHTML = '';\n",
              "          dataTable['output_type'] = 'display_data';\n",
              "          await google.colab.output.renderOutput(dataTable, element);\n",
              "          const docLink = document.createElement('div');\n",
              "          docLink.innerHTML = docLinkHtml;\n",
              "          element.appendChild(docLink);\n",
              "        }\n",
              "      </script>\n",
              "    </div>\n",
              "  </div>\n",
              "  "
            ]
          },
          "metadata": {},
          "execution_count": 5
        }
      ]
    },
    {
      "cell_type": "code",
      "source": [
        "X = dataset.iloc[:,:-1].values"
      ],
      "metadata": {
        "id": "zbkjHss3bKXg"
      },
      "execution_count": 22,
      "outputs": []
    },
    {
      "cell_type": "code",
      "source": [
        "y=dataset.iloc[:,-1].values\n"
      ],
      "metadata": {
        "id": "2YNgBSZObvk5"
      },
      "execution_count": 23,
      "outputs": []
    },
    {
      "cell_type": "code",
      "source": [
        "print(X)\n",
        "print(y)"
      ],
      "metadata": {
        "colab": {
          "base_uri": "https://localhost:8080/"
        },
        "id": "jNpGQa8lb6N2",
        "outputId": "210424be-258e-454b-f715-c1111a8b7ecd"
      },
      "execution_count": 24,
      "outputs": [
        {
          "output_type": "stream",
          "name": "stdout",
          "text": [
            "[[  14.96   41.76 1024.07   73.17]\n",
            " [  25.18   62.96 1020.04   59.08]\n",
            " [   5.11   39.4  1012.16   92.14]\n",
            " ...\n",
            " [  31.32   74.33 1012.92   36.48]\n",
            " [  24.48   69.45 1013.86   62.39]\n",
            " [  21.6    62.52 1017.23   67.87]]\n",
            "[463.26 444.37 488.56 ... 429.57 435.74 453.28]\n"
          ]
        }
      ]
    },
    {
      "cell_type": "markdown",
      "source": [
        "Splitting the dataset into training set and test set"
      ],
      "metadata": {
        "id": "furq8n3icjq0"
      }
    },
    {
      "cell_type": "code",
      "source": [
        "from sklearn.model_selection import train_test_split\n",
        "X_train,X_test,y_train,y_test=train_test_split(X,y, test_size=0.2,random_state=0) \n"
      ],
      "metadata": {
        "id": "MtIgipv7gb6v"
      },
      "execution_count": 25,
      "outputs": []
    },
    {
      "cell_type": "markdown",
      "source": [
        "**Building The ANN**"
      ],
      "metadata": {
        "id": "Q9DFf_CHgUfq"
      }
    },
    {
      "cell_type": "markdown",
      "source": [
        "*initializing the ann *"
      ],
      "metadata": {
        "id": "WsexG0Xq98cu"
      }
    },
    {
      "cell_type": "code",
      "source": [
        "ann = tf.keras.models.Sequential()"
      ],
      "metadata": {
        "id": "WImzJVHMcgfQ"
      },
      "execution_count": 26,
      "outputs": []
    },
    {
      "cell_type": "markdown",
      "source": [
        "*Adding the input layer and first hidden layer*"
      ],
      "metadata": {
        "id": "2OpHnS5896ru"
      }
    },
    {
      "cell_type": "code",
      "source": [
        "ann.add(tf.keras.layers.Dense(units=6, activation='relu'))"
      ],
      "metadata": {
        "id": "ygSde6r59oLR"
      },
      "execution_count": 27,
      "outputs": []
    },
    {
      "cell_type": "markdown",
      "source": [
        "*Adding second hidden layer*"
      ],
      "metadata": {
        "id": "xoYgUFXUBm7c"
      }
    },
    {
      "cell_type": "code",
      "source": [
        "ann.add(tf.keras.layers.Dense(units=6,activation='relu'))"
      ],
      "metadata": {
        "id": "OZL1KtMgBkH3"
      },
      "execution_count": 28,
      "outputs": []
    },
    {
      "cell_type": "markdown",
      "source": [
        "*Adding the output layer*"
      ],
      "metadata": {
        "id": "0-4RViVqCEv8"
      }
    },
    {
      "cell_type": "code",
      "source": [
        "ann.add(tf.keras.layers.Dense(units=1))"
      ],
      "metadata": {
        "id": "U9PDOgSaCDQu"
      },
      "execution_count": 29,
      "outputs": []
    },
    {
      "cell_type": "code",
      "source": [
        ""
      ],
      "metadata": {
        "id": "heKMeRS3C_lR"
      },
      "execution_count": 29,
      "outputs": []
    },
    {
      "cell_type": "markdown",
      "source": [
        "**Training the ANN**"
      ],
      "metadata": {
        "id": "e0x6wE0GC-UU"
      }
    },
    {
      "cell_type": "markdown",
      "source": [
        "*Compiling the ANN*"
      ],
      "metadata": {
        "id": "tLwmbot8DHjl"
      }
    },
    {
      "cell_type": "code",
      "source": [
        "ann.compile(optimizer='adam',loss= 'mean_squared_error')"
      ],
      "metadata": {
        "id": "9N05GZpUCvvT"
      },
      "execution_count": 30,
      "outputs": []
    },
    {
      "cell_type": "markdown",
      "source": [
        "*Training the ANN model on trainig set*"
      ],
      "metadata": {
        "id": "bi2PJCMfDNGG"
      }
    },
    {
      "cell_type": "code",
      "source": [
        "ann.fit(X_train,y_train,batch_size=32,epochs=100)"
      ],
      "metadata": {
        "colab": {
          "base_uri": "https://localhost:8080/"
        },
        "id": "J52tCfXSDTyW",
        "outputId": "e8d9c0f7-32c3-463e-f8dc-7be5098992f6"
      },
      "execution_count": 31,
      "outputs": [
        {
          "output_type": "stream",
          "name": "stdout",
          "text": [
            "Epoch 1/100\n",
            "240/240 [==============================] - 1s 1ms/step - loss: 16756.0098\n",
            "Epoch 2/100\n",
            "240/240 [==============================] - 0s 1ms/step - loss: 155.9901\n",
            "Epoch 3/100\n",
            "240/240 [==============================] - 0s 1ms/step - loss: 147.6592\n",
            "Epoch 4/100\n",
            "240/240 [==============================] - 0s 1ms/step - loss: 144.8036\n",
            "Epoch 5/100\n",
            "240/240 [==============================] - 0s 1ms/step - loss: 141.3427\n",
            "Epoch 6/100\n",
            "240/240 [==============================] - 0s 2ms/step - loss: 137.5177\n",
            "Epoch 7/100\n",
            "240/240 [==============================] - 0s 1ms/step - loss: 133.2048\n",
            "Epoch 8/100\n",
            "240/240 [==============================] - 0s 1ms/step - loss: 128.2697\n",
            "Epoch 9/100\n",
            "240/240 [==============================] - 0s 2ms/step - loss: 123.1328\n",
            "Epoch 10/100\n",
            "240/240 [==============================] - 0s 1ms/step - loss: 117.5332\n",
            "Epoch 11/100\n",
            "240/240 [==============================] - 0s 1ms/step - loss: 111.9279\n",
            "Epoch 12/100\n",
            "240/240 [==============================] - 0s 2ms/step - loss: 105.9258\n",
            "Epoch 13/100\n",
            "240/240 [==============================] - 0s 1ms/step - loss: 99.9097\n",
            "Epoch 14/100\n",
            "240/240 [==============================] - 0s 1ms/step - loss: 94.0175\n",
            "Epoch 15/100\n",
            "240/240 [==============================] - 0s 2ms/step - loss: 88.3636\n",
            "Epoch 16/100\n",
            "240/240 [==============================] - 0s 1ms/step - loss: 82.5037\n",
            "Epoch 17/100\n",
            "240/240 [==============================] - 0s 1ms/step - loss: 77.4401\n",
            "Epoch 18/100\n",
            "240/240 [==============================] - 0s 2ms/step - loss: 72.3564\n",
            "Epoch 19/100\n",
            "240/240 [==============================] - 0s 1ms/step - loss: 67.8196\n",
            "Epoch 20/100\n",
            "240/240 [==============================] - 0s 1ms/step - loss: 63.7760\n",
            "Epoch 21/100\n",
            "240/240 [==============================] - 0s 1ms/step - loss: 59.9130\n",
            "Epoch 22/100\n",
            "240/240 [==============================] - 0s 1ms/step - loss: 56.5863\n",
            "Epoch 23/100\n",
            "240/240 [==============================] - 0s 1ms/step - loss: 53.4975\n",
            "Epoch 24/100\n",
            "240/240 [==============================] - 0s 1ms/step - loss: 50.9689\n",
            "Epoch 25/100\n",
            "240/240 [==============================] - 0s 1ms/step - loss: 48.7582\n",
            "Epoch 26/100\n",
            "240/240 [==============================] - 0s 2ms/step - loss: 46.8428\n",
            "Epoch 27/100\n",
            "240/240 [==============================] - 0s 1ms/step - loss: 44.8620\n",
            "Epoch 28/100\n",
            "240/240 [==============================] - 0s 1ms/step - loss: 43.0632\n",
            "Epoch 29/100\n",
            "240/240 [==============================] - 0s 1ms/step - loss: 41.6546\n",
            "Epoch 30/100\n",
            "240/240 [==============================] - 0s 1ms/step - loss: 40.2438\n",
            "Epoch 31/100\n",
            "240/240 [==============================] - 0s 1ms/step - loss: 39.2699\n",
            "Epoch 32/100\n",
            "240/240 [==============================] - 0s 1ms/step - loss: 38.1002\n",
            "Epoch 33/100\n",
            "240/240 [==============================] - 0s 1ms/step - loss: 37.2005\n",
            "Epoch 34/100\n",
            "240/240 [==============================] - 0s 2ms/step - loss: 36.8610\n",
            "Epoch 35/100\n",
            "240/240 [==============================] - 0s 1ms/step - loss: 35.9637\n",
            "Epoch 36/100\n",
            "240/240 [==============================] - 0s 1ms/step - loss: 34.9647\n",
            "Epoch 37/100\n",
            "240/240 [==============================] - 0s 1ms/step - loss: 34.6246\n",
            "Epoch 38/100\n",
            "240/240 [==============================] - 0s 1ms/step - loss: 33.7721\n",
            "Epoch 39/100\n",
            "240/240 [==============================] - 0s 1ms/step - loss: 33.2377\n",
            "Epoch 40/100\n",
            "240/240 [==============================] - 0s 1ms/step - loss: 32.8511\n",
            "Epoch 41/100\n",
            "240/240 [==============================] - 0s 1ms/step - loss: 32.2540\n",
            "Epoch 42/100\n",
            "240/240 [==============================] - 1s 2ms/step - loss: 32.1336\n",
            "Epoch 43/100\n",
            "240/240 [==============================] - 0s 2ms/step - loss: 31.4521\n",
            "Epoch 44/100\n",
            "240/240 [==============================] - 0s 1ms/step - loss: 31.5898\n",
            "Epoch 45/100\n",
            "240/240 [==============================] - 0s 1ms/step - loss: 31.0942\n",
            "Epoch 46/100\n",
            "240/240 [==============================] - 0s 2ms/step - loss: 30.5749\n",
            "Epoch 47/100\n",
            "240/240 [==============================] - 0s 1ms/step - loss: 30.2952\n",
            "Epoch 48/100\n",
            "240/240 [==============================] - 0s 2ms/step - loss: 29.6711\n",
            "Epoch 49/100\n",
            "240/240 [==============================] - 0s 1ms/step - loss: 29.5877\n",
            "Epoch 50/100\n",
            "240/240 [==============================] - 0s 1ms/step - loss: 29.0620\n",
            "Epoch 51/100\n",
            "240/240 [==============================] - 0s 2ms/step - loss: 28.8183\n",
            "Epoch 52/100\n",
            "240/240 [==============================] - 0s 1ms/step - loss: 29.1409\n",
            "Epoch 53/100\n",
            "240/240 [==============================] - 0s 1ms/step - loss: 28.6320\n",
            "Epoch 54/100\n",
            "240/240 [==============================] - 0s 1ms/step - loss: 28.3840\n",
            "Epoch 55/100\n",
            "240/240 [==============================] - 0s 1ms/step - loss: 28.8162\n",
            "Epoch 56/100\n",
            "240/240 [==============================] - 0s 1ms/step - loss: 28.4444\n",
            "Epoch 57/100\n",
            "240/240 [==============================] - 0s 1ms/step - loss: 28.0988\n",
            "Epoch 58/100\n",
            "240/240 [==============================] - 0s 1ms/step - loss: 27.8234\n",
            "Epoch 59/100\n",
            "240/240 [==============================] - 0s 1ms/step - loss: 27.8323\n",
            "Epoch 60/100\n",
            "240/240 [==============================] - 0s 1ms/step - loss: 27.8755\n",
            "Epoch 61/100\n",
            "240/240 [==============================] - 0s 1ms/step - loss: 27.5235\n",
            "Epoch 62/100\n",
            "240/240 [==============================] - 0s 1ms/step - loss: 27.2296\n",
            "Epoch 63/100\n",
            "240/240 [==============================] - 0s 2ms/step - loss: 27.3130\n",
            "Epoch 64/100\n",
            "240/240 [==============================] - 0s 1ms/step - loss: 27.5513\n",
            "Epoch 65/100\n",
            "240/240 [==============================] - 0s 2ms/step - loss: 27.2282\n",
            "Epoch 66/100\n",
            "240/240 [==============================] - 0s 1ms/step - loss: 27.2656\n",
            "Epoch 67/100\n",
            "240/240 [==============================] - 0s 1ms/step - loss: 27.1159\n",
            "Epoch 68/100\n",
            "240/240 [==============================] - 0s 1ms/step - loss: 27.3194\n",
            "Epoch 69/100\n",
            "240/240 [==============================] - 0s 2ms/step - loss: 26.7290\n",
            "Epoch 70/100\n",
            "240/240 [==============================] - 0s 1ms/step - loss: 26.9209\n",
            "Epoch 71/100\n",
            "240/240 [==============================] - 0s 2ms/step - loss: 27.0370\n",
            "Epoch 72/100\n",
            "240/240 [==============================] - 0s 1ms/step - loss: 26.9837\n",
            "Epoch 73/100\n",
            "240/240 [==============================] - 0s 1ms/step - loss: 26.9428\n",
            "Epoch 74/100\n",
            "240/240 [==============================] - 0s 1ms/step - loss: 26.7924\n",
            "Epoch 75/100\n",
            "240/240 [==============================] - 0s 1ms/step - loss: 27.0029\n",
            "Epoch 76/100\n",
            "240/240 [==============================] - 0s 2ms/step - loss: 26.5066\n",
            "Epoch 77/100\n",
            "240/240 [==============================] - 0s 2ms/step - loss: 26.6865\n",
            "Epoch 78/100\n",
            "240/240 [==============================] - 0s 1ms/step - loss: 26.6108\n",
            "Epoch 79/100\n",
            "240/240 [==============================] - 0s 1ms/step - loss: 26.6958\n",
            "Epoch 80/100\n",
            "240/240 [==============================] - 0s 1ms/step - loss: 26.5052\n",
            "Epoch 81/100\n",
            "240/240 [==============================] - 0s 1ms/step - loss: 26.5487\n",
            "Epoch 82/100\n",
            "240/240 [==============================] - 0s 1ms/step - loss: 26.5724\n",
            "Epoch 83/100\n",
            "240/240 [==============================] - 0s 1ms/step - loss: 26.3975\n",
            "Epoch 84/100\n",
            "240/240 [==============================] - 0s 1ms/step - loss: 26.4597\n",
            "Epoch 85/100\n",
            "240/240 [==============================] - 0s 1ms/step - loss: 26.4565\n",
            "Epoch 86/100\n",
            "240/240 [==============================] - 0s 1ms/step - loss: 26.3060\n",
            "Epoch 87/100\n",
            "240/240 [==============================] - 0s 2ms/step - loss: 26.3142\n",
            "Epoch 88/100\n",
            "240/240 [==============================] - 0s 1ms/step - loss: 26.2089\n",
            "Epoch 89/100\n",
            "240/240 [==============================] - 0s 1ms/step - loss: 26.5526\n",
            "Epoch 90/100\n",
            "240/240 [==============================] - 0s 1ms/step - loss: 26.4196\n",
            "Epoch 91/100\n",
            "240/240 [==============================] - 0s 2ms/step - loss: 26.5674\n",
            "Epoch 92/100\n",
            "240/240 [==============================] - 0s 1ms/step - loss: 26.4634\n",
            "Epoch 93/100\n",
            "240/240 [==============================] - 0s 2ms/step - loss: 26.9319\n",
            "Epoch 94/100\n",
            "240/240 [==============================] - 0s 2ms/step - loss: 26.4891\n",
            "Epoch 95/100\n",
            "240/240 [==============================] - 0s 1ms/step - loss: 26.3049\n",
            "Epoch 96/100\n",
            "240/240 [==============================] - 0s 1ms/step - loss: 26.2435\n",
            "Epoch 97/100\n",
            "240/240 [==============================] - 0s 1ms/step - loss: 26.4805\n",
            "Epoch 98/100\n",
            "240/240 [==============================] - 0s 1ms/step - loss: 26.2939\n",
            "Epoch 99/100\n",
            "240/240 [==============================] - 0s 1ms/step - loss: 26.2760\n",
            "Epoch 100/100\n",
            "240/240 [==============================] - 0s 2ms/step - loss: 26.2527\n"
          ]
        },
        {
          "output_type": "execute_result",
          "data": {
            "text/plain": [
              "<keras.callbacks.History at 0x7f21d93fd650>"
            ]
          },
          "metadata": {},
          "execution_count": 31
        }
      ]
    },
    {
      "cell_type": "markdown",
      "source": [
        "*Predicting the result of the Test set*"
      ],
      "metadata": {
        "id": "IoBR3w2ZDUdE"
      }
    },
    {
      "cell_type": "code",
      "source": [
        "y_pred=ann.predict(X_test)\n",
        "np.set_printoptions(precision=2)\n",
        "print(np.concatenate((y_pred.reshape(len(y_pred),1),y_test.reshape(len(y_test),1)), 1))\n"
      ],
      "metadata": {
        "colab": {
          "base_uri": "https://localhost:8080/"
        },
        "id": "7u_LEYhwDcHO",
        "outputId": "023f4831-f554-42d3-f545-f7b8a5c46f84"
      },
      "execution_count": 32,
      "outputs": [
        {
          "output_type": "stream",
          "name": "stdout",
          "text": [
            "[[429.58 431.23]\n",
            " [460.79 460.01]\n",
            " [464.39 461.14]\n",
            " ...\n",
            " [471.37 473.26]\n",
            " [438.74 438.  ]\n",
            " [457.7  463.28]]\n"
          ]
        }
      ]
    },
    {
      "cell_type": "code",
      "source": [
        ""
      ],
      "metadata": {
        "id": "W1ZOobCfIZQ0"
      },
      "execution_count": null,
      "outputs": []
    }
  ]
}